{
 "cells": [
  {
   "cell_type": "code",
   "execution_count": 4,
   "id": "fc46fe6c-d06e-43f5-81e3-4c96bf206cbf",
   "metadata": {},
   "outputs": [
    {
     "name": "stdout",
     "output_type": "stream",
     "text": [
      "dd\n"
     ]
    }
   ],
   "source": [
    "print(\"dd\")\n",
    "\n"
   ]
  },
  {
   "cell_type": "code",
   "execution_count": 5,
   "id": "d4066e87-9b63-4b4d-b1aa-6e98a8131cb5",
   "metadata": {},
   "outputs": [
    {
     "data": {
      "text/plain": [
       "2"
      ]
     },
     "execution_count": 5,
     "metadata": {},
     "output_type": "execute_result"
    }
   ],
   "source": [
    "1+1\n"
   ]
  },
  {
   "cell_type": "code",
   "execution_count": 8,
   "id": "060e61d2-6fa0-46bf-a049-97aab6a35adb",
   "metadata": {},
   "outputs": [],
   "source": [
    "d = {\"k1\": [1,2,3]}\n"
   ]
  },
  {
   "cell_type": "code",
   "execution_count": 12,
   "id": "302d34be-4da0-4b7a-ac06-e6386bb3839e",
   "metadata": {},
   "outputs": [],
   "source": [
    "my_list = d['k1'][1]"
   ]
  },
  {
   "cell_type": "code",
   "execution_count": 13,
   "id": "48ac1648-3533-468d-b284-05cf866c15f5",
   "metadata": {},
   "outputs": [
    {
     "data": {
      "text/plain": [
       "2"
      ]
     },
     "execution_count": 13,
     "metadata": {},
     "output_type": "execute_result"
    }
   ],
   "source": [
    "my_list"
   ]
  },
  {
   "cell_type": "code",
   "execution_count": 7,
   "id": "be42484d-22b9-49f3-ac49-f95797f9e166",
   "metadata": {},
   "outputs": [
    {
     "name": "stdout",
     "output_type": "stream",
     "text": [
      "j\n"
     ]
    }
   ],
   "source": [
    "print(\"j\")"
   ]
  },
  {
   "cell_type": "code",
   "execution_count": 15,
   "id": "7f455b2f-e0cd-4094-9fbd-c72eb5036fa0",
   "metadata": {},
   "outputs": [
    {
     "data": {
      "text/plain": [
       "{1, 2, 3}"
      ]
     },
     "execution_count": 15,
     "metadata": {},
     "output_type": "execute_result"
    }
   ],
   "source": [
    "{1,1,1,1,1,2,3}"
   ]
  },
  {
   "cell_type": "code",
   "execution_count": 17,
   "id": "dbe5fa06-32c2-414f-8aa9-3ea4ca3930c0",
   "metadata": {},
   "outputs": [
    {
     "name": "stdout",
     "output_type": "stream",
     "text": [
      "0\n",
      "1\n",
      "2\n",
      "3\n",
      "4\n",
      "5\n",
      "6\n",
      "7\n",
      "8\n"
     ]
    }
   ],
   "source": [
    "for num in range(0,9):\n",
    "    print(num)\n",
    "list = "
   ]
  },
  {
   "cell_type": "code",
   "execution_count": 19,
   "id": "2b7c60f0-8469-40cf-bc21-6059d03ec030",
   "metadata": {},
   "outputs": [
    {
     "name": "stdout",
     "output_type": "stream",
     "text": [
      "[0, 1, 2, 3, 4, 5, 6, 7, 8, 9, 10, 11, 12, 13, 14, 15, 16, 17, 18, 19]\n"
     ]
    }
   ],
   "source": [
    "list = list(range(0,20))\n",
    "print(list)\n"
   ]
  },
  {
   "cell_type": "code",
   "execution_count": 20,
   "id": "714bd5ef-11a5-4647-9184-15449397750a",
   "metadata": {},
   "outputs": [],
   "source": [
    "x = []\n",
    "for num in list:\n",
    "    x.append(num**2)"
   ]
  },
  {
   "cell_type": "code",
   "execution_count": 21,
   "id": "0397d5e4-6792-4750-af4d-95806499bfb3",
   "metadata": {},
   "outputs": [
    {
     "name": "stdout",
     "output_type": "stream",
     "text": [
      "[0, 1, 4, 9, 16, 25, 36, 49, 64, 81, 100, 121, 144, 169, 196, 225, 256, 289, 324, 361]\n"
     ]
    }
   ],
   "source": [
    "print(x)"
   ]
  },
  {
   "cell_type": "code",
   "execution_count": 31,
   "id": "bea7b0ad-d994-4286-9b25-0197890265e1",
   "metadata": {},
   "outputs": [
    {
     "ename": "TypeError",
     "evalue": "'list' object is not callable",
     "output_type": "error",
     "traceback": [
      "\u001b[0;31m---------------------------------------------------------------------------\u001b[0m",
      "\u001b[0;31mTypeError\u001b[0m                                 Traceback (most recent call last)",
      "Cell \u001b[0;32mIn[31], line 1\u001b[0m\n\u001b[0;32m----> 1\u001b[0m \u001b[38;5;28;43mlist\u001b[39;49m\u001b[43m(\u001b[49m\u001b[38;5;28;43mmap\u001b[39;49m\u001b[43m(\u001b[49m\u001b[38;5;28;43;01mlambda\u001b[39;49;00m\u001b[43m \u001b[49m\u001b[43mnum\u001b[49m\u001b[43m:\u001b[49m\u001b[43m \u001b[49m\u001b[43mnum\u001b[49m\u001b[38;5;241;43m*\u001b[39;49m\u001b[38;5;241;43m*\u001b[39;49m\u001b[38;5;241;43m2\u001b[39;49m\u001b[43m,\u001b[49m\u001b[43mx\u001b[49m\u001b[43m)\u001b[49m\u001b[43m)\u001b[49m\n",
      "\u001b[0;31mTypeError\u001b[0m: 'list' object is not callable"
     ]
    }
   ],
   "source": [
    "list(map(lambda num: num**2,x))"
   ]
  },
  {
   "cell_type": "code",
   "execution_count": 29,
   "id": "b0771ba8-448e-4a20-a72c-903398104d74",
   "metadata": {},
   "outputs": [
    {
     "name": "stdout",
     "output_type": "stream",
     "text": [
      "<map object at 0x105b61960>\n"
     ]
    }
   ],
   "source": [
    "print (f)\n"
   ]
  },
  {
   "cell_type": "code",
   "execution_count": 30,
   "id": "914f049d-6887-4fdc-9172-6c06641d8bdb",
   "metadata": {},
   "outputs": [
    {
     "data": {
      "text/plain": [
       "[0,\n",
       " 1,\n",
       " 4,\n",
       " 9,\n",
       " 16,\n",
       " 25,\n",
       " 36,\n",
       " 49,\n",
       " 64,\n",
       " 81,\n",
       " 100,\n",
       " 121,\n",
       " 144,\n",
       " 169,\n",
       " 196,\n",
       " 225,\n",
       " 256,\n",
       " 289,\n",
       " 324,\n",
       " 361]"
      ]
     },
     "execution_count": 30,
     "metadata": {},
     "output_type": "execute_result"
    }
   ],
   "source": [
    "x\n"
   ]
  },
  {
   "cell_type": "code",
   "execution_count": 32,
   "id": "6ac12739-f706-4295-9cb5-72779723c12b",
   "metadata": {},
   "outputs": [
    {
     "ename": "TypeError",
     "evalue": "'list' object is not callable",
     "output_type": "error",
     "traceback": [
      "\u001b[0;31m---------------------------------------------------------------------------\u001b[0m",
      "\u001b[0;31mTypeError\u001b[0m                                 Traceback (most recent call last)",
      "Cell \u001b[0;32mIn[32], line 2\u001b[0m\n\u001b[1;32m      1\u001b[0m seq \u001b[38;5;241m=\u001b[39m [\u001b[38;5;241m1\u001b[39m,\u001b[38;5;241m2\u001b[39m,\u001b[38;5;241m3\u001b[39m,\u001b[38;5;241m4\u001b[39m,\u001b[38;5;241m5\u001b[39m]\n\u001b[0;32m----> 2\u001b[0m \u001b[38;5;28;43mlist\u001b[39;49m\u001b[43m(\u001b[49m\u001b[38;5;28;43mmap\u001b[39;49m\u001b[43m(\u001b[49m\u001b[38;5;28;43;01mlambda\u001b[39;49;00m\u001b[43m \u001b[49m\u001b[43mnum\u001b[49m\u001b[43m:\u001b[49m\u001b[43m \u001b[49m\u001b[43mnum\u001b[49m\u001b[38;5;241;43m*\u001b[39;49m\u001b[38;5;241;43m3\u001b[39;49m\u001b[43m,\u001b[49m\u001b[43mseq\u001b[49m\u001b[43m)\u001b[49m\u001b[43m)\u001b[49m\n",
      "\u001b[0;31mTypeError\u001b[0m: 'list' object is not callable"
     ]
    }
   ],
   "source": [
    "seq = [1,2,3,4,5]\n",
    "list(map(lambda num: num*3,seq))"
   ]
  },
  {
   "cell_type": "code",
   "execution_count": 33,
   "id": "2579f779-2fd3-4883-9b75-38649bb50c89",
   "metadata": {},
   "outputs": [],
   "source": [
    "t = lambda var:var**2"
   ]
  },
  {
   "cell_type": "code",
   "execution_count": 34,
   "id": "10fa957d-1638-4f78-8584-26bc419406c8",
   "metadata": {},
   "outputs": [
    {
     "data": {
      "text/plain": [
       "9"
      ]
     },
     "execution_count": 34,
     "metadata": {},
     "output_type": "execute_result"
    }
   ],
   "source": [
    "t(3)\n"
   ]
  },
  {
   "cell_type": "code",
   "execution_count": 35,
   "id": "9ac27454-070f-459d-8e3a-c8e858c8fc14",
   "metadata": {},
   "outputs": [
    {
     "ename": "TypeError",
     "evalue": "unsupported operand type(s) for ** or pow(): 'list' and 'int'",
     "output_type": "error",
     "traceback": [
      "\u001b[0;31m---------------------------------------------------------------------------\u001b[0m",
      "\u001b[0;31mTypeError\u001b[0m                                 Traceback (most recent call last)",
      "Cell \u001b[0;32mIn[35], line 1\u001b[0m\n\u001b[0;32m----> 1\u001b[0m \u001b[43mt\u001b[49m\u001b[43m(\u001b[49m\u001b[43mseq\u001b[49m\u001b[43m)\u001b[49m\n",
      "Cell \u001b[0;32mIn[33], line 1\u001b[0m, in \u001b[0;36m<lambda>\u001b[0;34m(var)\u001b[0m\n\u001b[0;32m----> 1\u001b[0m t \u001b[38;5;241m=\u001b[39m \u001b[38;5;28;01mlambda\u001b[39;00m var:\u001b[43mvar\u001b[49m\u001b[38;5;241;43m*\u001b[39;49m\u001b[38;5;241;43m*\u001b[39;49m\u001b[38;5;241;43m2\u001b[39;49m\n",
      "\u001b[0;31mTypeError\u001b[0m: unsupported operand type(s) for ** or pow(): 'list' and 'int'"
     ]
    }
   ],
   "source": [
    "t(seq)\n"
   ]
  },
  {
   "cell_type": "code",
   "execution_count": 37,
   "id": "8b6c6fb3-3d86-40dd-8b93-6a5ccd376975",
   "metadata": {},
   "outputs": [
    {
     "ename": "TypeError",
     "evalue": "'list' object is not callable",
     "output_type": "error",
     "traceback": [
      "\u001b[0;31m---------------------------------------------------------------------------\u001b[0m",
      "\u001b[0;31mTypeError\u001b[0m                                 Traceback (most recent call last)",
      "Cell \u001b[0;32mIn[37], line 1\u001b[0m\n\u001b[0;32m----> 1\u001b[0m \u001b[38;5;28;43mlist\u001b[39;49m\u001b[43m(\u001b[49m\u001b[38;5;28;43mmap\u001b[39;49m\u001b[43m(\u001b[49m\u001b[43mt\u001b[49m\u001b[43m,\u001b[49m\u001b[43m \u001b[49m\u001b[43mseq\u001b[49m\u001b[43m)\u001b[49m\u001b[43m)\u001b[49m\n",
      "\u001b[0;31mTypeError\u001b[0m: 'list' object is not callable"
     ]
    }
   ],
   "source": [
    "list(map(t, seq))"
   ]
  },
  {
   "cell_type": "code",
   "execution_count": 38,
   "id": "1fe32b12-5faf-45de-be06-884d4031d652",
   "metadata": {},
   "outputs": [],
   "source": [
    "def times2(var):\n",
    "    return var*2"
   ]
  },
  {
   "cell_type": "code",
   "execution_count": 39,
   "id": "ceeb3104-fbd9-41ae-b4fb-09fba78b4c1c",
   "metadata": {},
   "outputs": [
    {
     "data": {
      "text/plain": [
       "20"
      ]
     },
     "execution_count": 39,
     "metadata": {},
     "output_type": "execute_result"
    }
   ],
   "source": [
    "times2(10)"
   ]
  },
  {
   "cell_type": "code",
   "execution_count": 40,
   "id": "e66e0820-d555-4780-ac24-b64594ac53f4",
   "metadata": {},
   "outputs": [
    {
     "data": {
      "text/plain": [
       "[1, 2, 3, 4, 5]"
      ]
     },
     "execution_count": 40,
     "metadata": {},
     "output_type": "execute_result"
    }
   ],
   "source": [
    "seq\n"
   ]
  },
  {
   "cell_type": "code",
   "execution_count": 44,
   "id": "f6a5300e-cdb1-45ed-92e9-84cd0824bdf9",
   "metadata": {},
   "outputs": [
    {
     "ename": "TypeError",
     "evalue": "'list' object is not callable",
     "output_type": "error",
     "traceback": [
      "\u001b[0;31m---------------------------------------------------------------------------\u001b[0m",
      "\u001b[0;31mTypeError\u001b[0m                                 Traceback (most recent call last)",
      "Cell \u001b[0;32mIn[44], line 1\u001b[0m\n\u001b[0;32m----> 1\u001b[0m \u001b[38;5;28;43mlist\u001b[39;49m\u001b[43m(\u001b[49m\u001b[38;5;28;43mmap\u001b[39;49m\u001b[43m(\u001b[49m\u001b[43mtimes2\u001b[49m\u001b[43m,\u001b[49m\u001b[43mseq\u001b[49m\u001b[43m)\u001b[49m\u001b[43m)\u001b[49m\n",
      "\u001b[0;31mTypeError\u001b[0m: 'list' object is not callable"
     ]
    }
   ],
   "source": [
    "list(map(times2,seq))\n"
   ]
  },
  {
   "cell_type": "code",
   "execution_count": 45,
   "id": "76601828-3a02-4a1d-8dc4-f68fc21ed179",
   "metadata": {},
   "outputs": [],
   "source": [
    "s = 'my name is Jorge'"
   ]
  },
  {
   "cell_type": "code",
   "execution_count": 46,
   "id": "bf28e01a-e5f9-42e8-a534-9b73548089f7",
   "metadata": {},
   "outputs": [
    {
     "data": {
      "text/plain": [
       "'my name is jorge'"
      ]
     },
     "execution_count": 46,
     "metadata": {},
     "output_type": "execute_result"
    }
   ],
   "source": [
    "s.lower()"
   ]
  },
  {
   "cell_type": "code",
   "execution_count": 47,
   "id": "ccfec680-5eab-4b22-9c83-76c6fc4d4646",
   "metadata": {},
   "outputs": [
    {
     "data": {
      "text/plain": [
       "'MY NAME IS JORGE'"
      ]
     },
     "execution_count": 47,
     "metadata": {},
     "output_type": "execute_result"
    }
   ],
   "source": [
    "s.upper()"
   ]
  },
  {
   "cell_type": "code",
   "execution_count": 48,
   "id": "36226a28-84ee-4d2b-9cc2-dd9487876d92",
   "metadata": {},
   "outputs": [
    {
     "data": {
      "text/plain": [
       "['my', 'name', 'is', 'Jorge']"
      ]
     },
     "execution_count": 48,
     "metadata": {},
     "output_type": "execute_result"
    }
   ],
   "source": [
    "s.split()"
   ]
  },
  {
   "cell_type": "code",
   "execution_count": 49,
   "id": "527652b6-d80e-4793-a638-fc61ccc7cde4",
   "metadata": {},
   "outputs": [],
   "source": [
    "my_list = [1,2,3]\n"
   ]
  },
  {
   "cell_type": "code",
   "execution_count": 50,
   "id": "5eb75445-85ab-4a6b-9b0c-1b5e7e4c6a4c",
   "metadata": {},
   "outputs": [],
   "source": [
    "import numpy as np"
   ]
  },
  {
   "cell_type": "code",
   "execution_count": 52,
   "id": "a35ac29f-f776-4a26-9429-e0a97677c6db",
   "metadata": {},
   "outputs": [],
   "source": [
    "arr = np.array(my_list)"
   ]
  },
  {
   "cell_type": "code",
   "execution_count": 53,
   "id": "5924fafb-af2b-4b52-835e-b398c7cf8190",
   "metadata": {},
   "outputs": [
    {
     "data": {
      "text/plain": [
       "array([1, 2, 3])"
      ]
     },
     "execution_count": 53,
     "metadata": {},
     "output_type": "execute_result"
    }
   ],
   "source": [
    "arr\n"
   ]
  },
  {
   "cell_type": "code",
   "execution_count": 54,
   "id": "277f60de-225d-4443-92d8-17d5e39a9627",
   "metadata": {},
   "outputs": [],
   "source": [
    "my_mat = [[1,2,3],[4,5,6],[7,8,9]]"
   ]
  },
  {
   "cell_type": "code",
   "execution_count": 55,
   "id": "91cc9fd4-a0c4-45f6-bf76-ba5deb30106b",
   "metadata": {},
   "outputs": [
    {
     "data": {
      "text/plain": [
       "[[1, 2, 3], [4, 5, 6], [7, 8, 9]]"
      ]
     },
     "execution_count": 55,
     "metadata": {},
     "output_type": "execute_result"
    }
   ],
   "source": [
    "my_mat\n"
   ]
  },
  {
   "cell_type": "code",
   "execution_count": 56,
   "id": "0ab9c19a-048f-43b0-96eb-2e5429bf1d21",
   "metadata": {},
   "outputs": [
    {
     "data": {
      "text/plain": [
       "array([[1, 2, 3],\n",
       "       [4, 5, 6],\n",
       "       [7, 8, 9]])"
      ]
     },
     "execution_count": 56,
     "metadata": {},
     "output_type": "execute_result"
    }
   ],
   "source": [
    "np.array(my_mat)"
   ]
  },
  {
   "cell_type": "code",
   "execution_count": 59,
   "id": "5e521fc6-c261-4d84-8abb-25ae2de47d3f",
   "metadata": {},
   "outputs": [
    {
     "data": {
      "text/plain": [
       "array([ 0,  3,  6,  9, 12])"
      ]
     },
     "execution_count": 59,
     "metadata": {},
     "output_type": "execute_result"
    }
   ],
   "source": [
    "np.arange(0,15,3)"
   ]
  },
  {
   "cell_type": "code",
   "execution_count": 60,
   "id": "24516120-e908-47a9-9b85-a282ceac5c64",
   "metadata": {},
   "outputs": [
    {
     "data": {
      "text/plain": [
       "array([0., 0., 0., 0.])"
      ]
     },
     "execution_count": 60,
     "metadata": {},
     "output_type": "execute_result"
    }
   ],
   "source": [
    "np.zeros(4)"
   ]
  },
  {
   "cell_type": "code",
   "execution_count": 62,
   "id": "492cf450-4c20-4e53-aae2-b30ada7cb34b",
   "metadata": {},
   "outputs": [
    {
     "data": {
      "text/plain": [
       "array([[0., 0., 0., 0., 0., 0., 0., 0., 0., 0.],\n",
       "       [0., 0., 0., 0., 0., 0., 0., 0., 0., 0.],\n",
       "       [0., 0., 0., 0., 0., 0., 0., 0., 0., 0.],\n",
       "       [0., 0., 0., 0., 0., 0., 0., 0., 0., 0.],\n",
       "       [0., 0., 0., 0., 0., 0., 0., 0., 0., 0.],\n",
       "       [0., 0., 0., 0., 0., 0., 0., 0., 0., 0.],\n",
       "       [0., 0., 0., 0., 0., 0., 0., 0., 0., 0.],\n",
       "       [0., 0., 0., 0., 0., 0., 0., 0., 0., 0.],\n",
       "       [0., 0., 0., 0., 0., 0., 0., 0., 0., 0.],\n",
       "       [0., 0., 0., 0., 0., 0., 0., 0., 0., 0.]])"
      ]
     },
     "execution_count": 62,
     "metadata": {},
     "output_type": "execute_result"
    }
   ],
   "source": [
    "np.zeros((10,10))"
   ]
  },
  {
   "cell_type": "code",
   "execution_count": 63,
   "id": "b8a74b8b-7dd0-4eac-88a7-13d90a7a7a5c",
   "metadata": {},
   "outputs": [
    {
     "data": {
      "text/plain": [
       "array([1., 1., 1., 1., 1., 1., 1.])"
      ]
     },
     "execution_count": 63,
     "metadata": {},
     "output_type": "execute_result"
    }
   ],
   "source": [
    "np.ones(7)"
   ]
  },
  {
   "cell_type": "code",
   "execution_count": 64,
   "id": "748ac296-ca14-4668-bb7c-0cb9e5ea4b8e",
   "metadata": {},
   "outputs": [
    {
     "data": {
      "text/plain": [
       "array([[1., 1., 1., 1., 1., 1.],\n",
       "       [1., 1., 1., 1., 1., 1.],\n",
       "       [1., 1., 1., 1., 1., 1.],\n",
       "       [1., 1., 1., 1., 1., 1.],\n",
       "       [1., 1., 1., 1., 1., 1.],\n",
       "       [1., 1., 1., 1., 1., 1.]])"
      ]
     },
     "execution_count": 64,
     "metadata": {},
     "output_type": "execute_result"
    }
   ],
   "source": [
    "np.ones((6,6))"
   ]
  },
  {
   "cell_type": "code",
   "execution_count": 72,
   "id": "759f414f-1eb1-4157-a4d9-e931beebc4c7",
   "metadata": {},
   "outputs": [
    {
     "data": {
      "text/plain": [
       "array([0.        , 0.04081633, 0.08163265, 0.12244898, 0.16326531,\n",
       "       0.20408163, 0.24489796, 0.28571429, 0.32653061, 0.36734694,\n",
       "       0.40816327, 0.44897959, 0.48979592, 0.53061224, 0.57142857,\n",
       "       0.6122449 , 0.65306122, 0.69387755, 0.73469388, 0.7755102 ,\n",
       "       0.81632653, 0.85714286, 0.89795918, 0.93877551, 0.97959184,\n",
       "       1.02040816, 1.06122449, 1.10204082, 1.14285714, 1.18367347,\n",
       "       1.2244898 , 1.26530612, 1.30612245, 1.34693878, 1.3877551 ,\n",
       "       1.42857143, 1.46938776, 1.51020408, 1.55102041, 1.59183673,\n",
       "       1.63265306, 1.67346939, 1.71428571, 1.75510204, 1.79591837,\n",
       "       1.83673469, 1.87755102, 1.91836735, 1.95918367, 2.        ])"
      ]
     },
     "execution_count": 72,
     "metadata": {},
     "output_type": "execute_result"
    }
   ],
   "source": [
    "np.linspace(0,2)"
   ]
  },
  {
   "cell_type": "code",
   "execution_count": 74,
   "id": "8e5537a0-42e6-49e6-a997-2a560343df54",
   "metadata": {},
   "outputs": [
    {
     "data": {
      "text/plain": [
       "array([[1., 0., 0., 0., 0., 0., 0., 0., 0., 0.],\n",
       "       [0., 1., 0., 0., 0., 0., 0., 0., 0., 0.],\n",
       "       [0., 0., 1., 0., 0., 0., 0., 0., 0., 0.],\n",
       "       [0., 0., 0., 1., 0., 0., 0., 0., 0., 0.],\n",
       "       [0., 0., 0., 0., 1., 0., 0., 0., 0., 0.],\n",
       "       [0., 0., 0., 0., 0., 1., 0., 0., 0., 0.],\n",
       "       [0., 0., 0., 0., 0., 0., 1., 0., 0., 0.],\n",
       "       [0., 0., 0., 0., 0., 0., 0., 1., 0., 0.],\n",
       "       [0., 0., 0., 0., 0., 0., 0., 0., 1., 0.],\n",
       "       [0., 0., 0., 0., 0., 0., 0., 0., 0., 1.]])"
      ]
     },
     "execution_count": 74,
     "metadata": {},
     "output_type": "execute_result"
    }
   ],
   "source": [
    "np.eye(10)"
   ]
  },
  {
   "cell_type": "code",
   "execution_count": 76,
   "id": "3a1f228f-9d79-40e0-a012-223993fbaa8e",
   "metadata": {},
   "outputs": [
    {
     "data": {
      "text/plain": [
       "array([[0.16831433, 0.43631972, 0.6676205 , 0.44953761, 0.66886174],\n",
       "       [0.28300826, 0.10022027, 0.01950616, 0.13929329, 0.67884771],\n",
       "       [0.7048457 , 0.21966887, 0.42716393, 0.23170214, 0.27068361],\n",
       "       [0.8811074 , 0.07993006, 0.80586199, 0.84337686, 0.49824541],\n",
       "       [0.03917301, 0.31990658, 0.78227039, 0.8093184 , 0.32580748]])"
      ]
     },
     "execution_count": 76,
     "metadata": {},
     "output_type": "execute_result"
    }
   ],
   "source": [
    "np.random.rand(5,5)"
   ]
  },
  {
   "cell_type": "code",
   "execution_count": 133,
   "id": "b9170843-c7cd-47ec-b2ed-9050a9dc3a78",
   "metadata": {},
   "outputs": [
    {
     "data": {
      "text/plain": [
       "147"
      ]
     },
     "execution_count": 133,
     "metadata": {},
     "output_type": "execute_result"
    }
   ],
   "source": [
    "np.random.randint(1,1000)"
   ]
  },
  {
   "cell_type": "code",
   "execution_count": 79,
   "id": "539d5bbc-35bb-49b2-a1af-a5bd2fec4251",
   "metadata": {},
   "outputs": [],
   "source": [
    "arr = np.arange(25)"
   ]
  },
  {
   "cell_type": "code",
   "execution_count": 80,
   "id": "b04caf90-5dc0-463a-9e96-fbb876a90abc",
   "metadata": {},
   "outputs": [
    {
     "data": {
      "text/plain": [
       "array([ 0,  1,  2,  3,  4,  5,  6,  7,  8,  9, 10, 11, 12, 13, 14, 15, 16,\n",
       "       17, 18, 19, 20, 21, 22, 23, 24])"
      ]
     },
     "execution_count": 80,
     "metadata": {},
     "output_type": "execute_result"
    }
   ],
   "source": [
    "arr\n"
   ]
  },
  {
   "cell_type": "code",
   "execution_count": 81,
   "id": "fa5c881f-d828-4fef-88b8-a904c952187a",
   "metadata": {},
   "outputs": [
    {
     "data": {
      "text/plain": [
       "array([[ 0,  1,  2,  3,  4],\n",
       "       [ 5,  6,  7,  8,  9],\n",
       "       [10, 11, 12, 13, 14],\n",
       "       [15, 16, 17, 18, 19],\n",
       "       [20, 21, 22, 23, 24]])"
      ]
     },
     "execution_count": 81,
     "metadata": {},
     "output_type": "execute_result"
    }
   ],
   "source": [
    "arr.reshape(5,5)"
   ]
  },
  {
   "cell_type": "code",
   "execution_count": 82,
   "id": "8128c530-3264-4990-b152-ac18e8253132",
   "metadata": {},
   "outputs": [
    {
     "data": {
      "text/plain": [
       "24"
      ]
     },
     "execution_count": 82,
     "metadata": {},
     "output_type": "execute_result"
    }
   ],
   "source": [
    "arr.max()"
   ]
  },
  {
   "cell_type": "code",
   "execution_count": 83,
   "id": "8117ae25-9f9d-4138-8c38-efd2a4bc2677",
   "metadata": {},
   "outputs": [
    {
     "data": {
      "text/plain": [
       "(25,)"
      ]
     },
     "execution_count": 83,
     "metadata": {},
     "output_type": "execute_result"
    }
   ],
   "source": [
    "arr.shape"
   ]
  },
  {
   "cell_type": "code",
   "execution_count": 84,
   "id": "bc42064f-cfa1-40be-8691-21f1395e18a2",
   "metadata": {},
   "outputs": [],
   "source": [
    "arr = arr.reshape(5,5)"
   ]
  },
  {
   "cell_type": "code",
   "execution_count": 85,
   "id": "88d3b2cb-f974-4026-bf27-2219f9027606",
   "metadata": {},
   "outputs": [
    {
     "data": {
      "text/plain": [
       "(5, 5)"
      ]
     },
     "execution_count": 85,
     "metadata": {},
     "output_type": "execute_result"
    }
   ],
   "source": [
    "arr.shape"
   ]
  },
  {
   "cell_type": "code",
   "execution_count": 86,
   "id": "81c16697-f40e-444e-ab08-9bf89fdc1267",
   "metadata": {},
   "outputs": [],
   "source": [
    "import numpy as np\n"
   ]
  },
  {
   "cell_type": "code",
   "execution_count": 87,
   "id": "8b212d62-d993-4537-bddd-72606c0d3d60",
   "metadata": {},
   "outputs": [],
   "source": [
    "arr = np.arange(11)"
   ]
  },
  {
   "cell_type": "code",
   "execution_count": 88,
   "id": "cc579463-394a-455e-a762-4c3221357ae9",
   "metadata": {},
   "outputs": [
    {
     "data": {
      "text/plain": [
       "array([ 0,  1,  2,  3,  4,  5,  6,  7,  8,  9, 10])"
      ]
     },
     "execution_count": 88,
     "metadata": {},
     "output_type": "execute_result"
    }
   ],
   "source": [
    "arr\n"
   ]
  },
  {
   "cell_type": "code",
   "execution_count": 90,
   "id": "f76263fe-f867-4ccb-b72d-065a2aadc2b3",
   "metadata": {},
   "outputs": [
    {
     "data": {
      "text/plain": [
       "10"
      ]
     },
     "execution_count": 90,
     "metadata": {},
     "output_type": "execute_result"
    }
   ],
   "source": [
    "arr[10]"
   ]
  },
  {
   "cell_type": "code",
   "execution_count": 93,
   "id": "366a7912-12e7-4003-b324-b50763bfa826",
   "metadata": {},
   "outputs": [],
   "source": [
    "arr[0:5] = 100"
   ]
  },
  {
   "cell_type": "code",
   "execution_count": 94,
   "id": "9cb71f61-4a10-4558-81b4-d16401798f62",
   "metadata": {},
   "outputs": [
    {
     "data": {
      "text/plain": [
       "array([100, 100, 100, 100, 100,   5,   6,   7,   8,   9,  10])"
      ]
     },
     "execution_count": 94,
     "metadata": {},
     "output_type": "execute_result"
    }
   ],
   "source": [
    "arr"
   ]
  },
  {
   "cell_type": "code",
   "execution_count": 95,
   "id": "0a87ce28-73d1-4b62-bd54-80ac4370d7d0",
   "metadata": {},
   "outputs": [],
   "source": [
    "arr = np.arange(11)\n"
   ]
  },
  {
   "cell_type": "code",
   "execution_count": 96,
   "id": "3d19e10b-0c39-40eb-bf77-efc4cd9b7955",
   "metadata": {},
   "outputs": [
    {
     "data": {
      "text/plain": [
       "array([ 0,  1,  2,  3,  4,  5,  6,  7,  8,  9, 10])"
      ]
     },
     "execution_count": 96,
     "metadata": {},
     "output_type": "execute_result"
    }
   ],
   "source": [
    "arr\n"
   ]
  },
  {
   "cell_type": "code",
   "execution_count": 97,
   "id": "62791a3f-90e2-454d-825d-5b5c0adee967",
   "metadata": {},
   "outputs": [],
   "source": [
    "arr_2d = np.array([[5,10,15],[20,25,30],[30,35,40]])"
   ]
  },
  {
   "cell_type": "code",
   "execution_count": 98,
   "id": "184a5497-520e-41a5-b631-0277d63f777a",
   "metadata": {},
   "outputs": [
    {
     "data": {
      "text/plain": [
       "array([[ 5, 10, 15],\n",
       "       [20, 25, 30],\n",
       "       [30, 35, 40]])"
      ]
     },
     "execution_count": 98,
     "metadata": {},
     "output_type": "execute_result"
    }
   ],
   "source": [
    "arr_2d\n"
   ]
  },
  {
   "cell_type": "code",
   "execution_count": 103,
   "id": "3b3045ef-878d-46b3-ae8f-e149c641dc94",
   "metadata": {},
   "outputs": [
    {
     "data": {
      "text/plain": [
       "array([30, 35, 40])"
      ]
     },
     "execution_count": 103,
     "metadata": {},
     "output_type": "execute_result"
    }
   ],
   "source": [
    "arr_2d[2]"
   ]
  },
  {
   "cell_type": "code",
   "execution_count": 104,
   "id": "79a76ae2-65aa-4891-a45d-ee21ce2d9faf",
   "metadata": {},
   "outputs": [],
   "source": [
    "arr = np.arange(1,11)\n"
   ]
  },
  {
   "cell_type": "code",
   "execution_count": 105,
   "id": "1bfefd7f-ac07-4a32-ac93-3d0f071bb1a3",
   "metadata": {},
   "outputs": [
    {
     "data": {
      "text/plain": [
       "array([ 1,  2,  3,  4,  5,  6,  7,  8,  9, 10])"
      ]
     },
     "execution_count": 105,
     "metadata": {},
     "output_type": "execute_result"
    }
   ],
   "source": [
    "arr\n"
   ]
  },
  {
   "cell_type": "code",
   "execution_count": 106,
   "id": "75d643bc-2407-4a2a-bdb5-d460ebadcde1",
   "metadata": {},
   "outputs": [
    {
     "data": {
      "text/plain": [
       "array([False, False, False, False, False,  True,  True,  True,  True,\n",
       "        True])"
      ]
     },
     "execution_count": 106,
     "metadata": {},
     "output_type": "execute_result"
    }
   ],
   "source": [
    "arr > 5"
   ]
  },
  {
   "cell_type": "code",
   "execution_count": 107,
   "id": "68579b93-dc27-4248-b876-eddaf37add74",
   "metadata": {},
   "outputs": [
    {
     "data": {
      "text/plain": [
       "array([ 3,  4,  5,  6,  7,  8,  9, 10])"
      ]
     },
     "execution_count": 107,
     "metadata": {},
     "output_type": "execute_result"
    }
   ],
   "source": [
    "arr[arr>2]"
   ]
  },
  {
   "cell_type": "code",
   "execution_count": 108,
   "id": "afff2441-adb3-44e4-8632-2e60d661f992",
   "metadata": {},
   "outputs": [],
   "source": [
    "arr_2d = np.arange(50).reshape(5,10)"
   ]
  },
  {
   "cell_type": "code",
   "execution_count": 112,
   "id": "6510b20f-1380-48d5-9939-84ba792a9e83",
   "metadata": {},
   "outputs": [
    {
     "data": {
      "text/plain": [
       "array([[ 0,  1,  2,  3,  4,  5,  6,  7,  8,  9],\n",
       "       [10, 11, 12, 13, 14, 15, 16, 17, 18, 19],\n",
       "       [20, 21, 22, 23, 24, 25, 26, 27, 28, 29],\n",
       "       [30, 31, 32, 33, 34, 35, 36, 37, 38, 39],\n",
       "       [40, 41, 42, 43, 44, 45, 46, 47, 48, 49]])"
      ]
     },
     "execution_count": 112,
     "metadata": {},
     "output_type": "execute_result"
    }
   ],
   "source": [
    "arr_2d"
   ]
  },
  {
   "cell_type": "code",
   "execution_count": 121,
   "id": "66aed80d-ab6e-4da0-be5c-d739a2f17317",
   "metadata": {},
   "outputs": [
    {
     "data": {
      "text/plain": [
       "array([23, 24])"
      ]
     },
     "execution_count": 121,
     "metadata": {},
     "output_type": "execute_result"
    }
   ],
   "source": [
    "arr_2d[2][3:5]"
   ]
  },
  {
   "cell_type": "code",
   "execution_count": 122,
   "id": "a649fa8e-0b42-44f4-a92d-f758c32cfe67",
   "metadata": {},
   "outputs": [
    {
     "data": {
      "text/plain": [
       "array([[ 3,  4,  5,  6,  7,  8,  9, 10, 11, 12],\n",
       "       [13, 14, 15, 16, 17, 18, 19, 20, 21, 22],\n",
       "       [23, 24, 25, 26, 27, 28, 29, 30, 31, 32],\n",
       "       [33, 34, 35, 36, 37, 38, 39, 40, 41, 42],\n",
       "       [43, 44, 45, 46, 47, 48, 49, 50, 51, 52]])"
      ]
     },
     "execution_count": 122,
     "metadata": {},
     "output_type": "execute_result"
    }
   ],
   "source": [
    "arr_2d + 3"
   ]
  },
  {
   "cell_type": "code",
   "execution_count": 123,
   "id": "71b16fcf-9e8e-4f19-afdc-9a82e7208a48",
   "metadata": {},
   "outputs": [
    {
     "data": {
      "text/plain": [
       "array([[ 0,  1,  2,  3,  4,  5,  6,  7,  8,  9],\n",
       "       [10, 11, 12, 13, 14, 15, 16, 17, 18, 19],\n",
       "       [20, 21, 22, 23, 24, 25, 26, 27, 28, 29],\n",
       "       [30, 31, 32, 33, 34, 35, 36, 37, 38, 39],\n",
       "       [40, 41, 42, 43, 44, 45, 46, 47, 48, 49]])"
      ]
     },
     "execution_count": 123,
     "metadata": {},
     "output_type": "execute_result"
    }
   ],
   "source": [
    "arr_2d"
   ]
  },
  {
   "cell_type": "code",
   "execution_count": 128,
   "id": "173cdfe2-ebef-4e32-b318-18a4c19d76d6",
   "metadata": {},
   "outputs": [],
   "source": [
    "arrxx = arr_2d**2"
   ]
  },
  {
   "cell_type": "code",
   "execution_count": 130,
   "id": "fc0fa8c7-b7ec-4b5a-af47-6734e19c350d",
   "metadata": {},
   "outputs": [
    {
     "data": {
      "text/plain": [
       "array([[ 0.,  1.,  2.,  3.,  4.,  5.,  6.,  7.,  8.,  9.],\n",
       "       [10., 11., 12., 13., 14., 15., 16., 17., 18., 19.],\n",
       "       [20., 21., 22., 23., 24., 25., 26., 27., 28., 29.],\n",
       "       [30., 31., 32., 33., 34., 35., 36., 37., 38., 39.],\n",
       "       [40., 41., 42., 43., 44., 45., 46., 47., 48., 49.]])"
      ]
     },
     "execution_count": 130,
     "metadata": {},
     "output_type": "execute_result"
    }
   ],
   "source": [
    "np.sqrt(arrxx)"
   ]
  },
  {
   "cell_type": "code",
   "execution_count": 131,
   "id": "763e8931-9100-4f50-9675-7090dfbb7470",
   "metadata": {},
   "outputs": [
    {
     "data": {
      "text/plain": [
       "array([0., 0., 0., 0., 0., 0., 0., 0., 0., 0.])"
      ]
     },
     "execution_count": 131,
     "metadata": {},
     "output_type": "execute_result"
    }
   ],
   "source": [
    "np.zeros(10)"
   ]
  },
  {
   "cell_type": "code",
   "execution_count": 132,
   "id": "83f46b5d-ecdc-4ef3-ace7-8cc44d8fdf26",
   "metadata": {},
   "outputs": [
    {
     "data": {
      "text/plain": [
       "array([1., 1., 1., 1., 1., 1., 1., 1., 1., 1.])"
      ]
     },
     "execution_count": 132,
     "metadata": {},
     "output_type": "execute_result"
    }
   ],
   "source": [
    "np.ones(10)"
   ]
  },
  {
   "cell_type": "code",
   "execution_count": 136,
   "id": "b0fd88c2-7734-495b-840b-fcbbc788cafc",
   "metadata": {},
   "outputs": [
    {
     "data": {
      "text/plain": [
       "array([10, 12, 14, 16, 18, 20, 22, 24, 26, 28, 30, 32, 34, 36, 38, 40, 42,\n",
       "       44, 46, 48, 50])"
      ]
     },
     "execution_count": 136,
     "metadata": {},
     "output_type": "execute_result"
    }
   ],
   "source": [
    "np.arange(10,51,2)"
   ]
  },
  {
   "cell_type": "code",
   "execution_count": 137,
   "id": "7298961f-8f61-45ef-b5c5-d3b7598073ba",
   "metadata": {},
   "outputs": [
    {
     "data": {
      "text/plain": [
       "array([[0, 1, 2],\n",
       "       [3, 4, 5],\n",
       "       [6, 7, 8]])"
      ]
     },
     "execution_count": 137,
     "metadata": {},
     "output_type": "execute_result"
    }
   ],
   "source": [
    "np.arange(0,9).reshape(3,3)"
   ]
  },
  {
   "cell_type": "code",
   "execution_count": 138,
   "id": "90a8caa4-87a7-49c3-9bda-5e41279822fc",
   "metadata": {},
   "outputs": [
    {
     "data": {
      "text/plain": [
       "array([[1., 0., 0.],\n",
       "       [0., 1., 0.],\n",
       "       [0., 0., 1.]])"
      ]
     },
     "execution_count": 138,
     "metadata": {},
     "output_type": "execute_result"
    }
   ],
   "source": [
    "np.eye(3)"
   ]
  },
  {
   "cell_type": "code",
   "execution_count": 148,
   "id": "fd7bc825-3e49-4ead-896e-b5506181eafe",
   "metadata": {},
   "outputs": [
    {
     "ename": "TypeError",
     "evalue": "'float' object cannot be interpreted as an integer",
     "output_type": "error",
     "traceback": [
      "\u001b[0;31m---------------------------------------------------------------------------\u001b[0m",
      "\u001b[0;31mTypeError\u001b[0m                                 Traceback (most recent call last)",
      "Cell \u001b[0;32mIn[148], line 1\u001b[0m\n\u001b[0;32m----> 1\u001b[0m \u001b[43mnp\u001b[49m\u001b[38;5;241;43m.\u001b[39;49m\u001b[43mrandom\u001b[49m\u001b[38;5;241;43m.\u001b[39;49m\u001b[43mrand\u001b[49m\u001b[43m(\u001b[49m\u001b[38;5;241;43m10\u001b[39;49m\u001b[43m,\u001b[49m\u001b[38;5;241;43m10\u001b[39;49m\u001b[43m,\u001b[49m\u001b[38;5;241;43m0.1\u001b[39;49m\u001b[43m)\u001b[49m\n",
      "File \u001b[0;32mmtrand.pyx:1218\u001b[0m, in \u001b[0;36mnumpy.random.mtrand.RandomState.rand\u001b[0;34m()\u001b[0m\n",
      "File \u001b[0;32mmtrand.pyx:436\u001b[0m, in \u001b[0;36mnumpy.random.mtrand.RandomState.random_sample\u001b[0;34m()\u001b[0m\n",
      "File \u001b[0;32m_common.pyx:307\u001b[0m, in \u001b[0;36mnumpy.random._common.double_fill\u001b[0;34m()\u001b[0m\n",
      "\u001b[0;31mTypeError\u001b[0m: 'float' object cannot be interpreted as an integer"
     ]
    }
   ],
   "source": [
    "np.random.rand(10,10,0.1)"
   ]
  },
  {
   "cell_type": "code",
   "execution_count": 153,
   "id": "42b75d73-2f51-441f-97ff-43df8a49e689",
   "metadata": {},
   "outputs": [
    {
     "data": {
      "text/plain": [
       "array([[0.01, 0.02, 0.03, 0.04, 0.05, 0.06, 0.07, 0.08, 0.09, 0.1 ],\n",
       "       [0.11, 0.12, 0.13, 0.14, 0.15, 0.16, 0.17, 0.18, 0.19, 0.2 ],\n",
       "       [0.21, 0.22, 0.23, 0.24, 0.25, 0.26, 0.27, 0.28, 0.29, 0.3 ],\n",
       "       [0.31, 0.32, 0.33, 0.34, 0.35, 0.36, 0.37, 0.38, 0.39, 0.4 ],\n",
       "       [0.41, 0.42, 0.43, 0.44, 0.45, 0.46, 0.47, 0.48, 0.49, 0.5 ],\n",
       "       [0.51, 0.52, 0.53, 0.54, 0.55, 0.56, 0.57, 0.58, 0.59, 0.6 ],\n",
       "       [0.61, 0.62, 0.63, 0.64, 0.65, 0.66, 0.67, 0.68, 0.69, 0.7 ],\n",
       "       [0.71, 0.72, 0.73, 0.74, 0.75, 0.76, 0.77, 0.78, 0.79, 0.8 ],\n",
       "       [0.81, 0.82, 0.83, 0.84, 0.85, 0.86, 0.87, 0.88, 0.89, 0.9 ],\n",
       "       [0.91, 0.92, 0.93, 0.94, 0.95, 0.96, 0.97, 0.98, 0.99, 1.  ]])"
      ]
     },
     "execution_count": 153,
     "metadata": {},
     "output_type": "execute_result"
    }
   ],
   "source": [
    "np.linspace(0.01,1,100).reshape(10,10)"
   ]
  },
  {
   "cell_type": "code",
   "execution_count": 154,
   "id": "5fc0118e-18e9-476f-9ec9-6414f701aa25",
   "metadata": {},
   "outputs": [
    {
     "data": {
      "text/plain": [
       "array([0.01, 0.02, 0.03, 0.04, 0.05, 0.06, 0.07, 0.08, 0.09, 0.1 , 0.11,\n",
       "       0.12, 0.13, 0.14, 0.15, 0.16, 0.17, 0.18, 0.19, 0.2 , 0.21, 0.22,\n",
       "       0.23, 0.24, 0.25, 0.26, 0.27, 0.28, 0.29, 0.3 , 0.31, 0.32, 0.33,\n",
       "       0.34, 0.35, 0.36, 0.37, 0.38, 0.39, 0.4 , 0.41, 0.42, 0.43, 0.44,\n",
       "       0.45, 0.46, 0.47, 0.48, 0.49, 0.5 , 0.51, 0.52, 0.53, 0.54, 0.55,\n",
       "       0.56, 0.57, 0.58, 0.59, 0.6 , 0.61, 0.62, 0.63, 0.64, 0.65, 0.66,\n",
       "       0.67, 0.68, 0.69, 0.7 , 0.71, 0.72, 0.73, 0.74, 0.75, 0.76, 0.77,\n",
       "       0.78, 0.79, 0.8 , 0.81, 0.82, 0.83, 0.84, 0.85, 0.86, 0.87, 0.88,\n",
       "       0.89, 0.9 , 0.91, 0.92, 0.93, 0.94, 0.95, 0.96, 0.97, 0.98, 0.99,\n",
       "       1.  ])"
      ]
     },
     "execution_count": 154,
     "metadata": {},
     "output_type": "execute_result"
    }
   ],
   "source": [
    "np.linspace(0.01,1,100)"
   ]
  },
  {
   "cell_type": "code",
   "execution_count": 155,
   "id": "fac37e90-efd4-45ca-9abc-d7253b6a40ad",
   "metadata": {},
   "outputs": [
    {
     "data": {
      "text/plain": [
       "array([0.        , 0.05263158, 0.10526316, 0.15789474, 0.21052632,\n",
       "       0.26315789, 0.31578947, 0.36842105, 0.42105263, 0.47368421,\n",
       "       0.52631579, 0.57894737, 0.63157895, 0.68421053, 0.73684211,\n",
       "       0.78947368, 0.84210526, 0.89473684, 0.94736842, 1.        ])"
      ]
     },
     "execution_count": 155,
     "metadata": {},
     "output_type": "execute_result"
    }
   ],
   "source": [
    "np.linspace(0,1,20)"
   ]
  },
  {
   "cell_type": "code",
   "execution_count": 156,
   "id": "c1a17d2a-27ac-4e8c-b827-d9997951afca",
   "metadata": {},
   "outputs": [],
   "source": [
    "mat = np.arange(1,26).reshape(5,5)"
   ]
  },
  {
   "cell_type": "code",
   "execution_count": 157,
   "id": "ae88a87f-baae-43b7-b8b3-c11d54ff170f",
   "metadata": {},
   "outputs": [
    {
     "data": {
      "text/plain": [
       "array([[ 1,  2,  3,  4,  5],\n",
       "       [ 6,  7,  8,  9, 10],\n",
       "       [11, 12, 13, 14, 15],\n",
       "       [16, 17, 18, 19, 20],\n",
       "       [21, 22, 23, 24, 25]])"
      ]
     },
     "execution_count": 157,
     "metadata": {},
     "output_type": "execute_result"
    }
   ],
   "source": [
    "mat"
   ]
  },
  {
   "cell_type": "code",
   "execution_count": 166,
   "id": "407daee6-0a3f-45a1-be8b-598e568bcf4f",
   "metadata": {},
   "outputs": [
    {
     "data": {
      "text/plain": [
       "array([[12, 13, 14, 15],\n",
       "       [17, 18, 19, 20],\n",
       "       [22, 23, 24, 25]])"
      ]
     },
     "execution_count": 166,
     "metadata": {},
     "output_type": "execute_result"
    }
   ],
   "source": [
    "mat[2:,1:]"
   ]
  },
  {
   "cell_type": "code",
   "execution_count": 168,
   "id": "438c717d-1501-4ce6-9bbc-72739aa1f3df",
   "metadata": {},
   "outputs": [
    {
     "data": {
      "text/plain": [
       "20"
      ]
     },
     "execution_count": 168,
     "metadata": {},
     "output_type": "execute_result"
    }
   ],
   "source": [
    "mat[3,4]"
   ]
  },
  {
   "cell_type": "code",
   "execution_count": 171,
   "id": "2fd0ecb4-b06b-48f7-a6e4-71ca15b6c5a4",
   "metadata": {},
   "outputs": [
    {
     "data": {
      "text/plain": [
       "array([[ 2],\n",
       "       [ 7],\n",
       "       [12]])"
      ]
     },
     "execution_count": 171,
     "metadata": {},
     "output_type": "execute_result"
    }
   ],
   "source": [
    "mat[0:3,1].reshape(3,1)"
   ]
  },
  {
   "cell_type": "code",
   "execution_count": 172,
   "id": "d53bbacb-bf3b-4358-bc08-03420bec248e",
   "metadata": {},
   "outputs": [
    {
     "data": {
      "text/plain": [
       "array([21, 22, 23, 24, 25])"
      ]
     },
     "execution_count": 172,
     "metadata": {},
     "output_type": "execute_result"
    }
   ],
   "source": [
    "mat[4,:]"
   ]
  },
  {
   "cell_type": "code",
   "execution_count": 173,
   "id": "53418481-0220-404f-9a9a-d007e405d9f9",
   "metadata": {},
   "outputs": [
    {
     "data": {
      "text/plain": [
       "array([[16, 17, 18, 19, 20],\n",
       "       [21, 22, 23, 24, 25]])"
      ]
     },
     "execution_count": 173,
     "metadata": {},
     "output_type": "execute_result"
    }
   ],
   "source": [
    "mat[3:5,:]"
   ]
  },
  {
   "cell_type": "code",
   "execution_count": 174,
   "id": "12f21050-4fdc-4e88-b130-c2baea958a49",
   "metadata": {},
   "outputs": [
    {
     "data": {
      "text/plain": [
       "325"
      ]
     },
     "execution_count": 174,
     "metadata": {},
     "output_type": "execute_result"
    }
   ],
   "source": [
    "np.sum(mat)"
   ]
  },
  {
   "cell_type": "code",
   "execution_count": 175,
   "id": "e376db37-83b5-46ef-9fe6-7568b77091ae",
   "metadata": {},
   "outputs": [
    {
     "data": {
      "text/plain": [
       "7.211102550927978"
      ]
     },
     "execution_count": 175,
     "metadata": {},
     "output_type": "execute_result"
    }
   ],
   "source": [
    "np.std(mat)"
   ]
  },
  {
   "cell_type": "code",
   "execution_count": 176,
   "id": "f687a1d1-2c6a-4c2a-ace5-30c714fcc98f",
   "metadata": {},
   "outputs": [
    {
     "data": {
      "text/plain": [
       "array([55, 60, 65, 70, 75])"
      ]
     },
     "execution_count": 176,
     "metadata": {},
     "output_type": "execute_result"
    }
   ],
   "source": [
    "np.sum(mat, axis=0)"
   ]
  },
  {
   "cell_type": "code",
   "execution_count": 177,
   "id": "b5fed50c-d55a-4f41-902a-0e737989e249",
   "metadata": {},
   "outputs": [
    {
     "ename": "ModuleNotFoundError",
     "evalue": "No module named 'panda'",
     "output_type": "error",
     "traceback": [
      "\u001b[0;31m---------------------------------------------------------------------------\u001b[0m",
      "\u001b[0;31mModuleNotFoundError\u001b[0m                       Traceback (most recent call last)",
      "Cell \u001b[0;32mIn[177], line 1\u001b[0m\n\u001b[0;32m----> 1\u001b[0m \u001b[38;5;28;01mimport\u001b[39;00m \u001b[38;5;21;01mpanda\u001b[39;00m \u001b[38;5;28;01mas\u001b[39;00m \u001b[38;5;21;01mpd\u001b[39;00m\n",
      "\u001b[0;31mModuleNotFoundError\u001b[0m: No module named 'panda'"
     ]
    }
   ],
   "source": [
    "import panda as pd\n"
   ]
  },
  {
   "cell_type": "code",
   "execution_count": 178,
   "id": "c04b4136-f318-476d-a2e7-c6fd2aeb19b9",
   "metadata": {},
   "outputs": [],
   "source": [
    "import pandas as pd\n"
   ]
  },
  {
   "cell_type": "code",
   "execution_count": 179,
   "id": "af7bd7a4-edf9-4c1e-bcbe-97e918545986",
   "metadata": {},
   "outputs": [],
   "source": [
    "np.random.seed(101)"
   ]
  },
  {
   "cell_type": "code",
   "execution_count": 180,
   "id": "141d5d59-9d5e-4b45-9838-117db2a44a94",
   "metadata": {},
   "outputs": [
    {
     "ename": "NameError",
     "evalue": "name 'randn' is not defined",
     "output_type": "error",
     "traceback": [
      "\u001b[0;31m---------------------------------------------------------------------------\u001b[0m",
      "\u001b[0;31mNameError\u001b[0m                                 Traceback (most recent call last)",
      "Cell \u001b[0;32mIn[180], line 1\u001b[0m\n\u001b[0;32m----> 1\u001b[0m df \u001b[38;5;241m=\u001b[39m pd\u001b[38;5;241m.\u001b[39mDataFrame(\u001b[43mrandn\u001b[49m(\u001b[38;5;241m5\u001b[39m,\u001b[38;5;241m4\u001b[39m),[A,B,C,D,E],[W,X,Y,Z])\n",
      "\u001b[0;31mNameError\u001b[0m: name 'randn' is not defined"
     ]
    }
   ],
   "source": [
    "df = pd.DataFrame(randn(5,4),[A,B,C,D,E],[W,X,Y,Z])"
   ]
  },
  {
   "cell_type": "code",
   "execution_count": 181,
   "id": "3eebe6ad-985f-4a38-babd-1db1beed8a59",
   "metadata": {},
   "outputs": [],
   "source": [
    "from numpy.random import rand'"
   ]
  },
  {
   "cell_type": "code",
   "execution_count": 183,
   "id": "0d8b797c-f71a-458e-bc61-316b09f5737d",
   "metadata": {},
   "outputs": [],
   "source": [
    "df = pd.DataFrame(randn(5,4),['A','B','C','D','E'],['W','X','Y','Z'])"
   ]
  },
  {
   "cell_type": "code",
   "execution_count": 184,
   "id": "9b4c4f62-9509-4219-8dc6-93d1ced466e2",
   "metadata": {},
   "outputs": [
    {
     "data": {
      "text/html": [
       "<div>\n",
       "<style scoped>\n",
       "    .dataframe tbody tr th:only-of-type {\n",
       "        vertical-align: middle;\n",
       "    }\n",
       "\n",
       "    .dataframe tbody tr th {\n",
       "        vertical-align: top;\n",
       "    }\n",
       "\n",
       "    .dataframe thead th {\n",
       "        text-align: right;\n",
       "    }\n",
       "</style>\n",
       "<table border=\"1\" class=\"dataframe\">\n",
       "  <thead>\n",
       "    <tr style=\"text-align: right;\">\n",
       "      <th></th>\n",
       "      <th>W</th>\n",
       "      <th>X</th>\n",
       "      <th>Y</th>\n",
       "      <th>Z</th>\n",
       "    </tr>\n",
       "  </thead>\n",
       "  <tbody>\n",
       "    <tr>\n",
       "      <th>A</th>\n",
       "      <td>0.302665</td>\n",
       "      <td>1.693723</td>\n",
       "      <td>-1.706086</td>\n",
       "      <td>-1.159119</td>\n",
       "    </tr>\n",
       "    <tr>\n",
       "      <th>B</th>\n",
       "      <td>-0.134841</td>\n",
       "      <td>0.390528</td>\n",
       "      <td>0.166905</td>\n",
       "      <td>0.184502</td>\n",
       "    </tr>\n",
       "    <tr>\n",
       "      <th>C</th>\n",
       "      <td>0.807706</td>\n",
       "      <td>0.072960</td>\n",
       "      <td>0.638787</td>\n",
       "      <td>0.329646</td>\n",
       "    </tr>\n",
       "    <tr>\n",
       "      <th>D</th>\n",
       "      <td>-0.497104</td>\n",
       "      <td>-0.754070</td>\n",
       "      <td>-0.943406</td>\n",
       "      <td>0.484752</td>\n",
       "    </tr>\n",
       "    <tr>\n",
       "      <th>E</th>\n",
       "      <td>-0.116773</td>\n",
       "      <td>1.901755</td>\n",
       "      <td>0.238127</td>\n",
       "      <td>1.996652</td>\n",
       "    </tr>\n",
       "  </tbody>\n",
       "</table>\n",
       "</div>"
      ],
      "text/plain": [
       "          W         X         Y         Z\n",
       "A  0.302665  1.693723 -1.706086 -1.159119\n",
       "B -0.134841  0.390528  0.166905  0.184502\n",
       "C  0.807706  0.072960  0.638787  0.329646\n",
       "D -0.497104 -0.754070 -0.943406  0.484752\n",
       "E -0.116773  1.901755  0.238127  1.996652"
      ]
     },
     "execution_count": 184,
     "metadata": {},
     "output_type": "execute_result"
    }
   ],
   "source": [
    "df"
   ]
  },
  {
   "cell_type": "code",
   "execution_count": 185,
   "id": "3a8e82ac-5957-441f-8d11-f874d96616a1",
   "metadata": {},
   "outputs": [],
   "source": [
    "df2 = pd.DataFrame(randn(5,4))"
   ]
  },
  {
   "cell_type": "code",
   "execution_count": 186,
   "id": "e1b0def9-f444-4f9c-a178-c4b3dedb1087",
   "metadata": {},
   "outputs": [
    {
     "data": {
      "text/html": [
       "<div>\n",
       "<style scoped>\n",
       "    .dataframe tbody tr th:only-of-type {\n",
       "        vertical-align: middle;\n",
       "    }\n",
       "\n",
       "    .dataframe tbody tr th {\n",
       "        vertical-align: top;\n",
       "    }\n",
       "\n",
       "    .dataframe thead th {\n",
       "        text-align: right;\n",
       "    }\n",
       "</style>\n",
       "<table border=\"1\" class=\"dataframe\">\n",
       "  <thead>\n",
       "    <tr style=\"text-align: right;\">\n",
       "      <th></th>\n",
       "      <th>0</th>\n",
       "      <th>1</th>\n",
       "      <th>2</th>\n",
       "      <th>3</th>\n",
       "    </tr>\n",
       "  </thead>\n",
       "  <tbody>\n",
       "    <tr>\n",
       "      <th>0</th>\n",
       "      <td>-0.993263</td>\n",
       "      <td>0.196800</td>\n",
       "      <td>-1.136645</td>\n",
       "      <td>0.000366</td>\n",
       "    </tr>\n",
       "    <tr>\n",
       "      <th>1</th>\n",
       "      <td>1.025984</td>\n",
       "      <td>-0.156598</td>\n",
       "      <td>-0.031579</td>\n",
       "      <td>0.649826</td>\n",
       "    </tr>\n",
       "    <tr>\n",
       "      <th>2</th>\n",
       "      <td>2.154846</td>\n",
       "      <td>-0.610259</td>\n",
       "      <td>-0.755325</td>\n",
       "      <td>-0.346419</td>\n",
       "    </tr>\n",
       "    <tr>\n",
       "      <th>3</th>\n",
       "      <td>0.147027</td>\n",
       "      <td>-0.479448</td>\n",
       "      <td>0.558769</td>\n",
       "      <td>1.024810</td>\n",
       "    </tr>\n",
       "    <tr>\n",
       "      <th>4</th>\n",
       "      <td>-0.925874</td>\n",
       "      <td>1.862864</td>\n",
       "      <td>-1.133817</td>\n",
       "      <td>0.610478</td>\n",
       "    </tr>\n",
       "  </tbody>\n",
       "</table>\n",
       "</div>"
      ],
      "text/plain": [
       "          0         1         2         3\n",
       "0 -0.993263  0.196800 -1.136645  0.000366\n",
       "1  1.025984 -0.156598 -0.031579  0.649826\n",
       "2  2.154846 -0.610259 -0.755325 -0.346419\n",
       "3  0.147027 -0.479448  0.558769  1.024810\n",
       "4 -0.925874  1.862864 -1.133817  0.610478"
      ]
     },
     "execution_count": 186,
     "metadata": {},
     "output_type": "execute_result"
    }
   ],
   "source": [
    "df2\n"
   ]
  },
  {
   "cell_type": "code",
   "execution_count": 187,
   "id": "f4f3d7b7-6971-4a08-9952-12579799a6be",
   "metadata": {},
   "outputs": [
    {
     "data": {
      "text/plain": [
       "A    0.302665\n",
       "B   -0.134841\n",
       "C    0.807706\n",
       "D   -0.497104\n",
       "E   -0.116773\n",
       "Name: W, dtype: float64"
      ]
     },
     "execution_count": 187,
     "metadata": {},
     "output_type": "execute_result"
    }
   ],
   "source": [
    "df['W']"
   ]
  },
  {
   "cell_type": "code",
   "execution_count": 188,
   "id": "bed9d963-43f3-4f90-bce7-410534288d83",
   "metadata": {},
   "outputs": [
    {
     "data": {
      "text/plain": [
       "A    1.693723\n",
       "B    0.390528\n",
       "C    0.072960\n",
       "D   -0.754070\n",
       "E    1.901755\n",
       "Name: X, dtype: float64"
      ]
     },
     "execution_count": 188,
     "metadata": {},
     "output_type": "execute_result"
    }
   ],
   "source": [
    "df.X\n"
   ]
  },
  {
   "cell_type": "code",
   "execution_count": 189,
   "id": "c29cf575-dabf-4e0f-a6f9-a4ecd7439ca8",
   "metadata": {},
   "outputs": [],
   "source": [
    "df['New'] = df['W'] + df['X']"
   ]
  },
  {
   "cell_type": "code",
   "execution_count": 190,
   "id": "a825c199-664c-4a01-b542-122b7251466e",
   "metadata": {},
   "outputs": [
    {
     "data": {
      "text/html": [
       "<div>\n",
       "<style scoped>\n",
       "    .dataframe tbody tr th:only-of-type {\n",
       "        vertical-align: middle;\n",
       "    }\n",
       "\n",
       "    .dataframe tbody tr th {\n",
       "        vertical-align: top;\n",
       "    }\n",
       "\n",
       "    .dataframe thead th {\n",
       "        text-align: right;\n",
       "    }\n",
       "</style>\n",
       "<table border=\"1\" class=\"dataframe\">\n",
       "  <thead>\n",
       "    <tr style=\"text-align: right;\">\n",
       "      <th></th>\n",
       "      <th>W</th>\n",
       "      <th>X</th>\n",
       "      <th>Y</th>\n",
       "      <th>Z</th>\n",
       "      <th>New</th>\n",
       "    </tr>\n",
       "  </thead>\n",
       "  <tbody>\n",
       "    <tr>\n",
       "      <th>A</th>\n",
       "      <td>0.302665</td>\n",
       "      <td>1.693723</td>\n",
       "      <td>-1.706086</td>\n",
       "      <td>-1.159119</td>\n",
       "      <td>1.996388</td>\n",
       "    </tr>\n",
       "    <tr>\n",
       "      <th>B</th>\n",
       "      <td>-0.134841</td>\n",
       "      <td>0.390528</td>\n",
       "      <td>0.166905</td>\n",
       "      <td>0.184502</td>\n",
       "      <td>0.255687</td>\n",
       "    </tr>\n",
       "    <tr>\n",
       "      <th>C</th>\n",
       "      <td>0.807706</td>\n",
       "      <td>0.072960</td>\n",
       "      <td>0.638787</td>\n",
       "      <td>0.329646</td>\n",
       "      <td>0.880666</td>\n",
       "    </tr>\n",
       "    <tr>\n",
       "      <th>D</th>\n",
       "      <td>-0.497104</td>\n",
       "      <td>-0.754070</td>\n",
       "      <td>-0.943406</td>\n",
       "      <td>0.484752</td>\n",
       "      <td>-1.251174</td>\n",
       "    </tr>\n",
       "    <tr>\n",
       "      <th>E</th>\n",
       "      <td>-0.116773</td>\n",
       "      <td>1.901755</td>\n",
       "      <td>0.238127</td>\n",
       "      <td>1.996652</td>\n",
       "      <td>1.784981</td>\n",
       "    </tr>\n",
       "  </tbody>\n",
       "</table>\n",
       "</div>"
      ],
      "text/plain": [
       "          W         X         Y         Z       New\n",
       "A  0.302665  1.693723 -1.706086 -1.159119  1.996388\n",
       "B -0.134841  0.390528  0.166905  0.184502  0.255687\n",
       "C  0.807706  0.072960  0.638787  0.329646  0.880666\n",
       "D -0.497104 -0.754070 -0.943406  0.484752 -1.251174\n",
       "E -0.116773  1.901755  0.238127  1.996652  1.784981"
      ]
     },
     "execution_count": 190,
     "metadata": {},
     "output_type": "execute_result"
    }
   ],
   "source": [
    "df\n"
   ]
  },
  {
   "cell_type": "code",
   "execution_count": 191,
   "id": "70be0ba1-3615-4efc-bb8c-878958adde5d",
   "metadata": {},
   "outputs": [
    {
     "data": {
      "text/html": [
       "<div>\n",
       "<style scoped>\n",
       "    .dataframe tbody tr th:only-of-type {\n",
       "        vertical-align: middle;\n",
       "    }\n",
       "\n",
       "    .dataframe tbody tr th {\n",
       "        vertical-align: top;\n",
       "    }\n",
       "\n",
       "    .dataframe thead th {\n",
       "        text-align: right;\n",
       "    }\n",
       "</style>\n",
       "<table border=\"1\" class=\"dataframe\">\n",
       "  <thead>\n",
       "    <tr style=\"text-align: right;\">\n",
       "      <th></th>\n",
       "      <th>W</th>\n",
       "      <th>X</th>\n",
       "      <th>Y</th>\n",
       "      <th>Z</th>\n",
       "      <th>New</th>\n",
       "    </tr>\n",
       "  </thead>\n",
       "  <tbody>\n",
       "    <tr>\n",
       "      <th>A</th>\n",
       "      <td>0.302665</td>\n",
       "      <td>1.693723</td>\n",
       "      <td>-1.706086</td>\n",
       "      <td>-1.159119</td>\n",
       "      <td>1.996388</td>\n",
       "    </tr>\n",
       "    <tr>\n",
       "      <th>B</th>\n",
       "      <td>-0.134841</td>\n",
       "      <td>0.390528</td>\n",
       "      <td>0.166905</td>\n",
       "      <td>0.184502</td>\n",
       "      <td>0.255687</td>\n",
       "    </tr>\n",
       "    <tr>\n",
       "      <th>C</th>\n",
       "      <td>0.807706</td>\n",
       "      <td>0.072960</td>\n",
       "      <td>0.638787</td>\n",
       "      <td>0.329646</td>\n",
       "      <td>0.880666</td>\n",
       "    </tr>\n",
       "    <tr>\n",
       "      <th>D</th>\n",
       "      <td>-0.497104</td>\n",
       "      <td>-0.754070</td>\n",
       "      <td>-0.943406</td>\n",
       "      <td>0.484752</td>\n",
       "      <td>-1.251174</td>\n",
       "    </tr>\n",
       "  </tbody>\n",
       "</table>\n",
       "</div>"
      ],
      "text/plain": [
       "          W         X         Y         Z       New\n",
       "A  0.302665  1.693723 -1.706086 -1.159119  1.996388\n",
       "B -0.134841  0.390528  0.166905  0.184502  0.255687\n",
       "C  0.807706  0.072960  0.638787  0.329646  0.880666\n",
       "D -0.497104 -0.754070 -0.943406  0.484752 -1.251174"
      ]
     },
     "execution_count": 191,
     "metadata": {},
     "output_type": "execute_result"
    }
   ],
   "source": [
    "df.drop('E')"
   ]
  },
  {
   "cell_type": "code",
   "execution_count": 192,
   "id": "4c57175c-504c-448a-a74b-77dfbd38e611",
   "metadata": {},
   "outputs": [
    {
     "data": {
      "text/html": [
       "<div>\n",
       "<style scoped>\n",
       "    .dataframe tbody tr th:only-of-type {\n",
       "        vertical-align: middle;\n",
       "    }\n",
       "\n",
       "    .dataframe tbody tr th {\n",
       "        vertical-align: top;\n",
       "    }\n",
       "\n",
       "    .dataframe thead th {\n",
       "        text-align: right;\n",
       "    }\n",
       "</style>\n",
       "<table border=\"1\" class=\"dataframe\">\n",
       "  <thead>\n",
       "    <tr style=\"text-align: right;\">\n",
       "      <th></th>\n",
       "      <th>W</th>\n",
       "      <th>X</th>\n",
       "      <th>Y</th>\n",
       "      <th>Z</th>\n",
       "      <th>New</th>\n",
       "    </tr>\n",
       "  </thead>\n",
       "  <tbody>\n",
       "    <tr>\n",
       "      <th>A</th>\n",
       "      <td>0.302665</td>\n",
       "      <td>1.693723</td>\n",
       "      <td>-1.706086</td>\n",
       "      <td>-1.159119</td>\n",
       "      <td>1.996388</td>\n",
       "    </tr>\n",
       "    <tr>\n",
       "      <th>B</th>\n",
       "      <td>-0.134841</td>\n",
       "      <td>0.390528</td>\n",
       "      <td>0.166905</td>\n",
       "      <td>0.184502</td>\n",
       "      <td>0.255687</td>\n",
       "    </tr>\n",
       "    <tr>\n",
       "      <th>C</th>\n",
       "      <td>0.807706</td>\n",
       "      <td>0.072960</td>\n",
       "      <td>0.638787</td>\n",
       "      <td>0.329646</td>\n",
       "      <td>0.880666</td>\n",
       "    </tr>\n",
       "    <tr>\n",
       "      <th>D</th>\n",
       "      <td>-0.497104</td>\n",
       "      <td>-0.754070</td>\n",
       "      <td>-0.943406</td>\n",
       "      <td>0.484752</td>\n",
       "      <td>-1.251174</td>\n",
       "    </tr>\n",
       "    <tr>\n",
       "      <th>E</th>\n",
       "      <td>-0.116773</td>\n",
       "      <td>1.901755</td>\n",
       "      <td>0.238127</td>\n",
       "      <td>1.996652</td>\n",
       "      <td>1.784981</td>\n",
       "    </tr>\n",
       "  </tbody>\n",
       "</table>\n",
       "</div>"
      ],
      "text/plain": [
       "          W         X         Y         Z       New\n",
       "A  0.302665  1.693723 -1.706086 -1.159119  1.996388\n",
       "B -0.134841  0.390528  0.166905  0.184502  0.255687\n",
       "C  0.807706  0.072960  0.638787  0.329646  0.880666\n",
       "D -0.497104 -0.754070 -0.943406  0.484752 -1.251174\n",
       "E -0.116773  1.901755  0.238127  1.996652  1.784981"
      ]
     },
     "execution_count": 192,
     "metadata": {},
     "output_type": "execute_result"
    }
   ],
   "source": [
    "df"
   ]
  },
  {
   "cell_type": "code",
   "execution_count": 193,
   "id": "8285c9ec-e925-4a86-95ff-7ff612adb67b",
   "metadata": {},
   "outputs": [
    {
     "data": {
      "text/plain": [
       "0.16690463609281317"
      ]
     },
     "execution_count": 193,
     "metadata": {},
     "output_type": "execute_result"
    }
   ],
   "source": [
    "df.loc['B','Y']"
   ]
  },
  {
   "cell_type": "code",
   "execution_count": 195,
   "id": "710c626a-1567-4143-a21a-f08324ad995b",
   "metadata": {},
   "outputs": [
    {
     "data": {
      "text/plain": [
       "W      0.807706\n",
       "X      0.072960\n",
       "Y      0.638787\n",
       "Z      0.329646\n",
       "New    0.880666\n",
       "Name: C, dtype: float64"
      ]
     },
     "execution_count": 195,
     "metadata": {},
     "output_type": "execute_result"
    }
   ],
   "source": [
    "df.iloc[2]"
   ]
  },
  {
   "cell_type": "code",
   "execution_count": 196,
   "id": "6655b472-80c3-4974-a0d9-f27e09b185d8",
   "metadata": {},
   "outputs": [
    {
     "data": {
      "text/plain": [
       "W      0.807706\n",
       "X      0.072960\n",
       "Y      0.638787\n",
       "Z      0.329646\n",
       "New    0.880666\n",
       "Name: C, dtype: float64"
      ]
     },
     "execution_count": 196,
     "metadata": {},
     "output_type": "execute_result"
    }
   ],
   "source": [
    "df.loc['C']"
   ]
  },
  {
   "cell_type": "code",
   "execution_count": 197,
   "id": "4d9d3d0f-21fa-44a6-89ba-54bceb127416",
   "metadata": {},
   "outputs": [],
   "source": [
    "t = np.linspace(0, 40, 1000) # start, finish, n points"
   ]
  },
  {
   "cell_type": "code",
   "execution_count": 198,
   "id": "570022c4-d39d-4507-9753-000f49fdd5ab",
   "metadata": {},
   "outputs": [
    {
     "data": {
      "text/plain": [
       "array([ 0.        ,  0.04004004,  0.08008008,  0.12012012,  0.16016016,\n",
       "        0.2002002 ,  0.24024024,  0.28028028,  0.32032032,  0.36036036,\n",
       "        0.4004004 ,  0.44044044,  0.48048048,  0.52052052,  0.56056056,\n",
       "        0.6006006 ,  0.64064064,  0.68068068,  0.72072072,  0.76076076,\n",
       "        0.8008008 ,  0.84084084,  0.88088088,  0.92092092,  0.96096096,\n",
       "        1.001001  ,  1.04104104,  1.08108108,  1.12112112,  1.16116116,\n",
       "        1.2012012 ,  1.24124124,  1.28128128,  1.32132132,  1.36136136,\n",
       "        1.4014014 ,  1.44144144,  1.48148148,  1.52152152,  1.56156156,\n",
       "        1.6016016 ,  1.64164164,  1.68168168,  1.72172172,  1.76176176,\n",
       "        1.8018018 ,  1.84184184,  1.88188188,  1.92192192,  1.96196196,\n",
       "        2.002002  ,  2.04204204,  2.08208208,  2.12212212,  2.16216216,\n",
       "        2.2022022 ,  2.24224224,  2.28228228,  2.32232232,  2.36236236,\n",
       "        2.4024024 ,  2.44244244,  2.48248248,  2.52252252,  2.56256256,\n",
       "        2.6026026 ,  2.64264264,  2.68268268,  2.72272272,  2.76276276,\n",
       "        2.8028028 ,  2.84284284,  2.88288288,  2.92292292,  2.96296296,\n",
       "        3.003003  ,  3.04304304,  3.08308308,  3.12312312,  3.16316316,\n",
       "        3.2032032 ,  3.24324324,  3.28328328,  3.32332332,  3.36336336,\n",
       "        3.4034034 ,  3.44344344,  3.48348348,  3.52352352,  3.56356356,\n",
       "        3.6036036 ,  3.64364364,  3.68368368,  3.72372372,  3.76376376,\n",
       "        3.8038038 ,  3.84384384,  3.88388388,  3.92392392,  3.96396396,\n",
       "        4.004004  ,  4.04404404,  4.08408408,  4.12412412,  4.16416416,\n",
       "        4.2042042 ,  4.24424424,  4.28428428,  4.32432432,  4.36436436,\n",
       "        4.4044044 ,  4.44444444,  4.48448448,  4.52452452,  4.56456456,\n",
       "        4.6046046 ,  4.64464464,  4.68468468,  4.72472472,  4.76476476,\n",
       "        4.8048048 ,  4.84484484,  4.88488488,  4.92492492,  4.96496496,\n",
       "        5.00500501,  5.04504505,  5.08508509,  5.12512513,  5.16516517,\n",
       "        5.20520521,  5.24524525,  5.28528529,  5.32532533,  5.36536537,\n",
       "        5.40540541,  5.44544545,  5.48548549,  5.52552553,  5.56556557,\n",
       "        5.60560561,  5.64564565,  5.68568569,  5.72572573,  5.76576577,\n",
       "        5.80580581,  5.84584585,  5.88588589,  5.92592593,  5.96596597,\n",
       "        6.00600601,  6.04604605,  6.08608609,  6.12612613,  6.16616617,\n",
       "        6.20620621,  6.24624625,  6.28628629,  6.32632633,  6.36636637,\n",
       "        6.40640641,  6.44644645,  6.48648649,  6.52652653,  6.56656657,\n",
       "        6.60660661,  6.64664665,  6.68668669,  6.72672673,  6.76676677,\n",
       "        6.80680681,  6.84684685,  6.88688689,  6.92692693,  6.96696697,\n",
       "        7.00700701,  7.04704705,  7.08708709,  7.12712713,  7.16716717,\n",
       "        7.20720721,  7.24724725,  7.28728729,  7.32732733,  7.36736737,\n",
       "        7.40740741,  7.44744745,  7.48748749,  7.52752753,  7.56756757,\n",
       "        7.60760761,  7.64764765,  7.68768769,  7.72772773,  7.76776777,\n",
       "        7.80780781,  7.84784785,  7.88788789,  7.92792793,  7.96796797,\n",
       "        8.00800801,  8.04804805,  8.08808809,  8.12812813,  8.16816817,\n",
       "        8.20820821,  8.24824825,  8.28828829,  8.32832833,  8.36836837,\n",
       "        8.40840841,  8.44844845,  8.48848849,  8.52852853,  8.56856857,\n",
       "        8.60860861,  8.64864865,  8.68868869,  8.72872873,  8.76876877,\n",
       "        8.80880881,  8.84884885,  8.88888889,  8.92892893,  8.96896897,\n",
       "        9.00900901,  9.04904905,  9.08908909,  9.12912913,  9.16916917,\n",
       "        9.20920921,  9.24924925,  9.28928929,  9.32932933,  9.36936937,\n",
       "        9.40940941,  9.44944945,  9.48948949,  9.52952953,  9.56956957,\n",
       "        9.60960961,  9.64964965,  9.68968969,  9.72972973,  9.76976977,\n",
       "        9.80980981,  9.84984985,  9.88988989,  9.92992993,  9.96996997,\n",
       "       10.01001001, 10.05005005, 10.09009009, 10.13013013, 10.17017017,\n",
       "       10.21021021, 10.25025025, 10.29029029, 10.33033033, 10.37037037,\n",
       "       10.41041041, 10.45045045, 10.49049049, 10.53053053, 10.57057057,\n",
       "       10.61061061, 10.65065065, 10.69069069, 10.73073073, 10.77077077,\n",
       "       10.81081081, 10.85085085, 10.89089089, 10.93093093, 10.97097097,\n",
       "       11.01101101, 11.05105105, 11.09109109, 11.13113113, 11.17117117,\n",
       "       11.21121121, 11.25125125, 11.29129129, 11.33133133, 11.37137137,\n",
       "       11.41141141, 11.45145145, 11.49149149, 11.53153153, 11.57157157,\n",
       "       11.61161161, 11.65165165, 11.69169169, 11.73173173, 11.77177177,\n",
       "       11.81181181, 11.85185185, 11.89189189, 11.93193193, 11.97197197,\n",
       "       12.01201201, 12.05205205, 12.09209209, 12.13213213, 12.17217217,\n",
       "       12.21221221, 12.25225225, 12.29229229, 12.33233233, 12.37237237,\n",
       "       12.41241241, 12.45245245, 12.49249249, 12.53253253, 12.57257257,\n",
       "       12.61261261, 12.65265265, 12.69269269, 12.73273273, 12.77277277,\n",
       "       12.81281281, 12.85285285, 12.89289289, 12.93293293, 12.97297297,\n",
       "       13.01301301, 13.05305305, 13.09309309, 13.13313313, 13.17317317,\n",
       "       13.21321321, 13.25325325, 13.29329329, 13.33333333, 13.37337337,\n",
       "       13.41341341, 13.45345345, 13.49349349, 13.53353353, 13.57357357,\n",
       "       13.61361361, 13.65365365, 13.69369369, 13.73373373, 13.77377377,\n",
       "       13.81381381, 13.85385385, 13.89389389, 13.93393393, 13.97397397,\n",
       "       14.01401401, 14.05405405, 14.09409409, 14.13413413, 14.17417417,\n",
       "       14.21421421, 14.25425425, 14.29429429, 14.33433433, 14.37437437,\n",
       "       14.41441441, 14.45445445, 14.49449449, 14.53453453, 14.57457457,\n",
       "       14.61461461, 14.65465465, 14.69469469, 14.73473473, 14.77477477,\n",
       "       14.81481481, 14.85485485, 14.89489489, 14.93493493, 14.97497497,\n",
       "       15.01501502, 15.05505506, 15.0950951 , 15.13513514, 15.17517518,\n",
       "       15.21521522, 15.25525526, 15.2952953 , 15.33533534, 15.37537538,\n",
       "       15.41541542, 15.45545546, 15.4954955 , 15.53553554, 15.57557558,\n",
       "       15.61561562, 15.65565566, 15.6956957 , 15.73573574, 15.77577578,\n",
       "       15.81581582, 15.85585586, 15.8958959 , 15.93593594, 15.97597598,\n",
       "       16.01601602, 16.05605606, 16.0960961 , 16.13613614, 16.17617618,\n",
       "       16.21621622, 16.25625626, 16.2962963 , 16.33633634, 16.37637638,\n",
       "       16.41641642, 16.45645646, 16.4964965 , 16.53653654, 16.57657658,\n",
       "       16.61661662, 16.65665666, 16.6966967 , 16.73673674, 16.77677678,\n",
       "       16.81681682, 16.85685686, 16.8968969 , 16.93693694, 16.97697698,\n",
       "       17.01701702, 17.05705706, 17.0970971 , 17.13713714, 17.17717718,\n",
       "       17.21721722, 17.25725726, 17.2972973 , 17.33733734, 17.37737738,\n",
       "       17.41741742, 17.45745746, 17.4974975 , 17.53753754, 17.57757758,\n",
       "       17.61761762, 17.65765766, 17.6976977 , 17.73773774, 17.77777778,\n",
       "       17.81781782, 17.85785786, 17.8978979 , 17.93793794, 17.97797798,\n",
       "       18.01801802, 18.05805806, 18.0980981 , 18.13813814, 18.17817818,\n",
       "       18.21821822, 18.25825826, 18.2982983 , 18.33833834, 18.37837838,\n",
       "       18.41841842, 18.45845846, 18.4984985 , 18.53853854, 18.57857858,\n",
       "       18.61861862, 18.65865866, 18.6986987 , 18.73873874, 18.77877878,\n",
       "       18.81881882, 18.85885886, 18.8988989 , 18.93893894, 18.97897898,\n",
       "       19.01901902, 19.05905906, 19.0990991 , 19.13913914, 19.17917918,\n",
       "       19.21921922, 19.25925926, 19.2992993 , 19.33933934, 19.37937938,\n",
       "       19.41941942, 19.45945946, 19.4994995 , 19.53953954, 19.57957958,\n",
       "       19.61961962, 19.65965966, 19.6996997 , 19.73973974, 19.77977978,\n",
       "       19.81981982, 19.85985986, 19.8998999 , 19.93993994, 19.97997998,\n",
       "       20.02002002, 20.06006006, 20.1001001 , 20.14014014, 20.18018018,\n",
       "       20.22022022, 20.26026026, 20.3003003 , 20.34034034, 20.38038038,\n",
       "       20.42042042, 20.46046046, 20.5005005 , 20.54054054, 20.58058058,\n",
       "       20.62062062, 20.66066066, 20.7007007 , 20.74074074, 20.78078078,\n",
       "       20.82082082, 20.86086086, 20.9009009 , 20.94094094, 20.98098098,\n",
       "       21.02102102, 21.06106106, 21.1011011 , 21.14114114, 21.18118118,\n",
       "       21.22122122, 21.26126126, 21.3013013 , 21.34134134, 21.38138138,\n",
       "       21.42142142, 21.46146146, 21.5015015 , 21.54154154, 21.58158158,\n",
       "       21.62162162, 21.66166166, 21.7017017 , 21.74174174, 21.78178178,\n",
       "       21.82182182, 21.86186186, 21.9019019 , 21.94194194, 21.98198198,\n",
       "       22.02202202, 22.06206206, 22.1021021 , 22.14214214, 22.18218218,\n",
       "       22.22222222, 22.26226226, 22.3023023 , 22.34234234, 22.38238238,\n",
       "       22.42242242, 22.46246246, 22.5025025 , 22.54254254, 22.58258258,\n",
       "       22.62262262, 22.66266266, 22.7027027 , 22.74274274, 22.78278278,\n",
       "       22.82282282, 22.86286286, 22.9029029 , 22.94294294, 22.98298298,\n",
       "       23.02302302, 23.06306306, 23.1031031 , 23.14314314, 23.18318318,\n",
       "       23.22322322, 23.26326326, 23.3033033 , 23.34334334, 23.38338338,\n",
       "       23.42342342, 23.46346346, 23.5035035 , 23.54354354, 23.58358358,\n",
       "       23.62362362, 23.66366366, 23.7037037 , 23.74374374, 23.78378378,\n",
       "       23.82382382, 23.86386386, 23.9039039 , 23.94394394, 23.98398398,\n",
       "       24.02402402, 24.06406406, 24.1041041 , 24.14414414, 24.18418418,\n",
       "       24.22422422, 24.26426426, 24.3043043 , 24.34434434, 24.38438438,\n",
       "       24.42442442, 24.46446446, 24.5045045 , 24.54454454, 24.58458458,\n",
       "       24.62462462, 24.66466466, 24.7047047 , 24.74474474, 24.78478478,\n",
       "       24.82482482, 24.86486486, 24.9049049 , 24.94494494, 24.98498498,\n",
       "       25.02502503, 25.06506507, 25.10510511, 25.14514515, 25.18518519,\n",
       "       25.22522523, 25.26526527, 25.30530531, 25.34534535, 25.38538539,\n",
       "       25.42542543, 25.46546547, 25.50550551, 25.54554555, 25.58558559,\n",
       "       25.62562563, 25.66566567, 25.70570571, 25.74574575, 25.78578579,\n",
       "       25.82582583, 25.86586587, 25.90590591, 25.94594595, 25.98598599,\n",
       "       26.02602603, 26.06606607, 26.10610611, 26.14614615, 26.18618619,\n",
       "       26.22622623, 26.26626627, 26.30630631, 26.34634635, 26.38638639,\n",
       "       26.42642643, 26.46646647, 26.50650651, 26.54654655, 26.58658659,\n",
       "       26.62662663, 26.66666667, 26.70670671, 26.74674675, 26.78678679,\n",
       "       26.82682683, 26.86686687, 26.90690691, 26.94694695, 26.98698699,\n",
       "       27.02702703, 27.06706707, 27.10710711, 27.14714715, 27.18718719,\n",
       "       27.22722723, 27.26726727, 27.30730731, 27.34734735, 27.38738739,\n",
       "       27.42742743, 27.46746747, 27.50750751, 27.54754755, 27.58758759,\n",
       "       27.62762763, 27.66766767, 27.70770771, 27.74774775, 27.78778779,\n",
       "       27.82782783, 27.86786787, 27.90790791, 27.94794795, 27.98798799,\n",
       "       28.02802803, 28.06806807, 28.10810811, 28.14814815, 28.18818819,\n",
       "       28.22822823, 28.26826827, 28.30830831, 28.34834835, 28.38838839,\n",
       "       28.42842843, 28.46846847, 28.50850851, 28.54854855, 28.58858859,\n",
       "       28.62862863, 28.66866867, 28.70870871, 28.74874875, 28.78878879,\n",
       "       28.82882883, 28.86886887, 28.90890891, 28.94894895, 28.98898899,\n",
       "       29.02902903, 29.06906907, 29.10910911, 29.14914915, 29.18918919,\n",
       "       29.22922923, 29.26926927, 29.30930931, 29.34934935, 29.38938939,\n",
       "       29.42942943, 29.46946947, 29.50950951, 29.54954955, 29.58958959,\n",
       "       29.62962963, 29.66966967, 29.70970971, 29.74974975, 29.78978979,\n",
       "       29.82982983, 29.86986987, 29.90990991, 29.94994995, 29.98998999,\n",
       "       30.03003003, 30.07007007, 30.11011011, 30.15015015, 30.19019019,\n",
       "       30.23023023, 30.27027027, 30.31031031, 30.35035035, 30.39039039,\n",
       "       30.43043043, 30.47047047, 30.51051051, 30.55055055, 30.59059059,\n",
       "       30.63063063, 30.67067067, 30.71071071, 30.75075075, 30.79079079,\n",
       "       30.83083083, 30.87087087, 30.91091091, 30.95095095, 30.99099099,\n",
       "       31.03103103, 31.07107107, 31.11111111, 31.15115115, 31.19119119,\n",
       "       31.23123123, 31.27127127, 31.31131131, 31.35135135, 31.39139139,\n",
       "       31.43143143, 31.47147147, 31.51151151, 31.55155155, 31.59159159,\n",
       "       31.63163163, 31.67167167, 31.71171171, 31.75175175, 31.79179179,\n",
       "       31.83183183, 31.87187187, 31.91191191, 31.95195195, 31.99199199,\n",
       "       32.03203203, 32.07207207, 32.11211211, 32.15215215, 32.19219219,\n",
       "       32.23223223, 32.27227227, 32.31231231, 32.35235235, 32.39239239,\n",
       "       32.43243243, 32.47247247, 32.51251251, 32.55255255, 32.59259259,\n",
       "       32.63263263, 32.67267267, 32.71271271, 32.75275275, 32.79279279,\n",
       "       32.83283283, 32.87287287, 32.91291291, 32.95295295, 32.99299299,\n",
       "       33.03303303, 33.07307307, 33.11311311, 33.15315315, 33.19319319,\n",
       "       33.23323323, 33.27327327, 33.31331331, 33.35335335, 33.39339339,\n",
       "       33.43343343, 33.47347347, 33.51351351, 33.55355355, 33.59359359,\n",
       "       33.63363363, 33.67367367, 33.71371371, 33.75375375, 33.79379379,\n",
       "       33.83383383, 33.87387387, 33.91391391, 33.95395395, 33.99399399,\n",
       "       34.03403403, 34.07407407, 34.11411411, 34.15415415, 34.19419419,\n",
       "       34.23423423, 34.27427427, 34.31431431, 34.35435435, 34.39439439,\n",
       "       34.43443443, 34.47447447, 34.51451451, 34.55455455, 34.59459459,\n",
       "       34.63463463, 34.67467467, 34.71471471, 34.75475475, 34.79479479,\n",
       "       34.83483483, 34.87487487, 34.91491491, 34.95495495, 34.99499499,\n",
       "       35.03503504, 35.07507508, 35.11511512, 35.15515516, 35.1951952 ,\n",
       "       35.23523524, 35.27527528, 35.31531532, 35.35535536, 35.3953954 ,\n",
       "       35.43543544, 35.47547548, 35.51551552, 35.55555556, 35.5955956 ,\n",
       "       35.63563564, 35.67567568, 35.71571572, 35.75575576, 35.7957958 ,\n",
       "       35.83583584, 35.87587588, 35.91591592, 35.95595596, 35.995996  ,\n",
       "       36.03603604, 36.07607608, 36.11611612, 36.15615616, 36.1961962 ,\n",
       "       36.23623624, 36.27627628, 36.31631632, 36.35635636, 36.3963964 ,\n",
       "       36.43643644, 36.47647648, 36.51651652, 36.55655656, 36.5965966 ,\n",
       "       36.63663664, 36.67667668, 36.71671672, 36.75675676, 36.7967968 ,\n",
       "       36.83683684, 36.87687688, 36.91691692, 36.95695696, 36.996997  ,\n",
       "       37.03703704, 37.07707708, 37.11711712, 37.15715716, 37.1971972 ,\n",
       "       37.23723724, 37.27727728, 37.31731732, 37.35735736, 37.3973974 ,\n",
       "       37.43743744, 37.47747748, 37.51751752, 37.55755756, 37.5975976 ,\n",
       "       37.63763764, 37.67767768, 37.71771772, 37.75775776, 37.7977978 ,\n",
       "       37.83783784, 37.87787788, 37.91791792, 37.95795796, 37.997998  ,\n",
       "       38.03803804, 38.07807808, 38.11811812, 38.15815816, 38.1981982 ,\n",
       "       38.23823824, 38.27827828, 38.31831832, 38.35835836, 38.3983984 ,\n",
       "       38.43843844, 38.47847848, 38.51851852, 38.55855856, 38.5985986 ,\n",
       "       38.63863864, 38.67867868, 38.71871872, 38.75875876, 38.7987988 ,\n",
       "       38.83883884, 38.87887888, 38.91891892, 38.95895896, 38.998999  ,\n",
       "       39.03903904, 39.07907908, 39.11911912, 39.15915916, 39.1991992 ,\n",
       "       39.23923924, 39.27927928, 39.31931932, 39.35935936, 39.3993994 ,\n",
       "       39.43943944, 39.47947948, 39.51951952, 39.55955956, 39.5995996 ,\n",
       "       39.63963964, 39.67967968, 39.71971972, 39.75975976, 39.7997998 ,\n",
       "       39.83983984, 39.87987988, 39.91991992, 39.95995996, 40.        ])"
      ]
     },
     "execution_count": 198,
     "metadata": {},
     "output_type": "execute_result"
    }
   ],
   "source": [
    "t"
   ]
  },
  {
   "cell_type": "code",
   "execution_count": 199,
   "id": "0f797943-ada3-433f-a236-d99c8553f89d",
   "metadata": {},
   "outputs": [
    {
     "data": {
      "text/plain": [
       "'/Users/jorayala/Library/CloudStorage/OneDrive-Cisco/2023/Python/Data Analitycs Udemy/Refactored_Py_DS_ML_Bootcamp-master'"
      ]
     },
     "execution_count": 199,
     "metadata": {},
     "output_type": "execute_result"
    }
   ],
   "source": [
    "pwd"
   ]
  },
  {
   "cell_type": "code",
   "execution_count": 200,
   "id": "5a117ce4-ce17-4646-ba25-dcac08d01ba2",
   "metadata": {},
   "outputs": [
    {
     "name": "stdout",
     "output_type": "stream",
     "text": [
      "00-Welcome to the Course.ipynb         \u001b[34m14-K-Nearest-Neighbors\u001b[m\u001b[m/\n",
      "\u001b[34m01-Python-Crash-Course\u001b[m\u001b[m/                \u001b[34m15-Decision-Trees-and-Random-Forests\u001b[m\u001b[m/\n",
      "\u001b[34m02-Python-for-Data-Analysis-NumPy\u001b[m\u001b[m/     \u001b[34m16-Support-Vector-Machines\u001b[m\u001b[m/\n",
      "\u001b[34m03-Python-for-Data-Analysis-Pandas\u001b[m\u001b[m/    \u001b[34m17-K-Means-Clustering\u001b[m\u001b[m/\n",
      "\u001b[34m04-Pandas-Exercises\u001b[m\u001b[m/                   \u001b[34m18-Principal-Component-Analysis\u001b[m\u001b[m/\n",
      "\u001b[34m05-Data-Visualization-with-Matplotlib\u001b[m\u001b[m/ \u001b[34m19-Recommender-Systems\u001b[m\u001b[m/\n",
      "\u001b[34m06-Data-Visualization-with-Seaborn\u001b[m\u001b[m/    \u001b[34m20-Natural-Language-Processing\u001b[m\u001b[m/\n",
      "\u001b[34m07-Pandas-Built-in-Data-Viz\u001b[m\u001b[m/           \u001b[34m21-Big-Data-and-Spark\u001b[m\u001b[m/\n",
      "\u001b[34m08-Plotly-and-Cufflinks\u001b[m\u001b[m/               \u001b[34m22-Deep Learning\u001b[m\u001b[m/\n",
      "\u001b[34m09-Geographical-Plotting\u001b[m\u001b[m/              \u001b[34m23-EXTRA-NOTES-SciPy\u001b[m\u001b[m/\n",
      "\u001b[34m10-Data-Capstone-Projects\u001b[m\u001b[m/             Pierian_Data_Logo.png\n",
      "\u001b[34m11-Linear-Regression\u001b[m\u001b[m/                  README.md\n",
      "\u001b[34m13-Logistic-Regression\u001b[m\u001b[m/                Untitled.ipynb\n"
     ]
    }
   ],
   "source": [
    "ls"
   ]
  },
  {
   "cell_type": "code",
   "execution_count": null,
   "id": "14532762-f05b-4a41-aee1-0a78776fa0f3",
   "metadata": {},
   "outputs": [],
   "source": []
  }
 ],
 "metadata": {
  "kernelspec": {
   "display_name": "Python 3 (ipykernel)",
   "language": "python",
   "name": "python3"
  },
  "language_info": {
   "codemirror_mode": {
    "name": "ipython",
    "version": 3
   },
   "file_extension": ".py",
   "mimetype": "text/x-python",
   "name": "python",
   "nbconvert_exporter": "python",
   "pygments_lexer": "ipython3",
   "version": "3.10.6"
  }
 },
 "nbformat": 4,
 "nbformat_minor": 5
}
